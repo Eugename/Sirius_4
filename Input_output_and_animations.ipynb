{
 "cells": [
  {
   "cell_type": "markdown",
   "id": "b2f17cde-5918-4b63-b32b-d89881267a0a",
   "metadata": {},
   "source": [
    "## Import ##"
   ]
  },
  {
   "cell_type": "code",
   "execution_count": 1,
   "id": "94c1e288-7599-45ce-b953-b75b57c9fa8a",
   "metadata": {},
   "outputs": [],
   "source": [
    "import numpy as np\n",
    "import pandas as pd\n",
    "import os\n",
    "import cv2\n",
    "import matplotlib.pyplot as plt\n",
    "from PIL import Image\n",
    "import matplotlib.animation as animation"
   ]
  },
  {
   "cell_type": "code",
   "execution_count": 2,
   "id": "c9b9c4a0-683a-469a-80b5-b0933e25bdf0",
   "metadata": {},
   "outputs": [
    {
     "name": "stdout",
     "output_type": "stream",
     "text": [
      "Using matplotlib backend: Qt5Agg\n"
     ]
    }
   ],
   "source": [
    "%matplotlib"
   ]
  },
  {
   "cell_type": "code",
   "execution_count": 3,
   "id": "4d78b1e9-2ab2-426e-a74b-e5b69f741f75",
   "metadata": {
    "tags": []
   },
   "outputs": [],
   "source": [
    "all_data = []\n",
    "for filename in os.listdir(\"01/\"):\n",
    "    with open(os.path.join(\"01/\", filename), 'r') as file:\n",
    "        #print(filename[:3], filename[4:7])\n",
    "        dtype = np.dtype('uint32')\n",
    "        data = np.fromfile(file, dtype)\n",
    "        shp = (int(filename[:3]), int(filename[4:7]))\n",
    "        data = data.reshape(shp)\n",
    "        all_data.append(data)"
   ]
  },
  {
   "cell_type": "code",
   "execution_count": 4,
   "id": "0c801dd7-1455-4eee-b496-d478fc413c00",
   "metadata": {},
   "outputs": [],
   "source": [
    "all_data = np.array(all_data).astype('int64')"
   ]
  },
  {
   "cell_type": "markdown",
   "id": "90558610-3344-4921-9be3-048dca148957",
   "metadata": {},
   "source": [
    "## Анимация ##"
   ]
  },
  {
   "cell_type": "code",
   "execution_count": 5,
   "id": "e29c446f-1d41-4dc0-8d66-d0729f4360dd",
   "metadata": {},
   "outputs": [],
   "source": [
    "fig, ax = plt.subplots()\n",
    "\n",
    "\n",
    "def f(i):\n",
    "    return all_data[i]\n",
    "\n",
    "ims = []\n",
    "for i in range(0, 286):\n",
    "    im = ax.imshow(f(i), animated=True)\n",
    "    ims.append([im])\n",
    "\n",
    "ani = animation.ArtistAnimation(fig, ims, interval=50, blit=True,\n",
    "                                repeat_delay=1000)\n",
    "\n",
    "\n",
    "plt.show()"
   ]
  },
  {
   "cell_type": "code",
   "execution_count": 189,
   "id": "cefcb571-6d7d-4319-acfd-3112eeeff44a",
   "metadata": {},
   "outputs": [
    {
     "name": "stderr",
     "output_type": "stream",
     "text": [
      "MovieWriter ffmpeg unavailable; using Pillow instead.\n"
     ]
    }
   ],
   "source": [
    "ani.save('animations.gif')"
   ]
  },
  {
   "cell_type": "markdown",
   "id": "1c4d9969-8bc0-415a-8423-e208ba61e050",
   "metadata": {},
   "source": [
    "## Обработка ##"
   ]
  },
  {
   "cell_type": "markdown",
   "id": "7c403ff7-e2fb-48bd-b584-5ee026ce0397",
   "metadata": {},
   "source": [
    "Перейти к float типу данных, а то uint изменяется в очень высоких пределах"
   ]
  },
  {
   "cell_type": "code",
   "execution_count": 7,
   "id": "b09f4c7b-a22a-40f7-a896-bcf9bbf1f145",
   "metadata": {
    "tags": []
   },
   "outputs": [],
   "source": [
    "new = []\n",
    "for img in all_data.copy():\n",
    "    temp = cv2.normalize(img, None, alpha=0, beta=1, norm_type=cv2.NORM_MINMAX, dtype=cv2.CV_32F)\n",
    "    new.append(temp)"
   ]
  },
  {
   "cell_type": "code",
   "execution_count": 412,
   "id": "018e6b9c-b273-4772-8f63-ffec52819a1a",
   "metadata": {
    "jupyter": {
     "source_hidden": true
    },
    "tags": []
   },
   "outputs": [],
   "source": [
    "new = []\n",
    "for i in all_data:\n",
    "    temp = np.int64(i)\n",
    "    new.append(temp)"
   ]
  },
  {
   "cell_type": "code",
   "execution_count": 438,
   "id": "07a84e37-65a0-47e0-bc15-ce33702ca2c9",
   "metadata": {
    "jupyter": {
     "source_hidden": true
    },
    "tags": []
   },
   "outputs": [],
   "source": [
    "new = []\n",
    "for i in all_data:\n",
    "    temp = np.float64(i)\n",
    "    new.append(temp)"
   ]
  },
  {
   "cell_type": "code",
   "execution_count": 8,
   "id": "e296f7cc-8ec9-4586-b719-e6b453a8c6f7",
   "metadata": {},
   "outputs": [],
   "source": [
    "new_255 = []\n",
    "for img in new.copy():\n",
    "    norm_image = cv2.normalize(img, None, alpha = 0, beta = 255, norm_type = cv2.NORM_MINMAX, dtype = cv2.CV_32F)\n",
    "    norm_image = norm_image.astype(np.uint8)\n",
    "    new_255.append(norm_image)"
   ]
  },
  {
   "cell_type": "code",
   "execution_count": 9,
   "id": "f882f0c3-47b6-4059-ac87-759d1e8c20a2",
   "metadata": {},
   "outputs": [],
   "source": [
    "import numpy as np\n",
    "import matplotlib.pyplot as plt\n",
    "import matplotlib.animation as animation\n",
    "\n",
    "fig, ax = plt.subplots()\n",
    "\n",
    "\n",
    "def f(i):\n",
    "    return new_255[i]\n",
    "\n",
    "\n",
    "# ims is a list of lists, each row is a list of artists to draw in the\n",
    "# current frame; here we are just animating one artist, the image, in\n",
    "# each frame\n",
    "ims = []\n",
    "for i in range(0, 286):\n",
    "    im = ax.imshow(f(i), animated=True)\n",
    "    ims.append([im])\n",
    "\n",
    "ani = animation.ArtistAnimation(fig, ims, interval=50, blit=True,\n",
    "                                repeat_delay=1000)\n",
    "\n",
    "\n",
    "plt.show()"
   ]
  },
  {
   "cell_type": "markdown",
   "id": "cd1dbbda-59ea-4802-95c3-da1f2ae3db14",
   "metadata": {},
   "source": [
    "## Выгрузка данных ##"
   ]
  },
  {
   "cell_type": "code",
   "execution_count": 10,
   "id": "bfd62088-7550-48f8-97c2-948cd3b0b44f",
   "metadata": {
    "tags": []
   },
   "outputs": [],
   "source": [
    "for idx, pic in enumerate(new_255):\n",
    "    retval = cv2.imwrite('01_output/{}.png'.format(idx), pic)"
   ]
  },
  {
   "cell_type": "markdown",
   "id": "b36ab84b-f966-4654-9e24-4cb4520adf7f",
   "metadata": {},
   "source": [
    "## Проверка ##"
   ]
  },
  {
   "cell_type": "code",
   "execution_count": 11,
   "id": "9fd497e4-d16c-4341-9ed1-6edbc9a3a5a7",
   "metadata": {},
   "outputs": [],
   "source": [
    "df = []\n",
    "for filename in os.listdir(\"01_output/\"):\n",
    "    tmp = cv2.imread(\"01_output/\" + filename)\n",
    "    df.append(tmp)"
   ]
  },
  {
   "cell_type": "code",
   "execution_count": 16,
   "id": "337a9313-4904-42a8-834d-698e9da33e75",
   "metadata": {},
   "outputs": [
    {
     "data": {
      "text/plain": [
       "<matplotlib.image.AxesImage at 0x18605100dd8>"
      ]
     },
     "execution_count": 16,
     "metadata": {},
     "output_type": "execute_result"
    }
   ],
   "source": [
    "plt.imshow(df[0])"
   ]
  },
  {
   "cell_type": "markdown",
   "id": "73ddf299-1426-45a4-a132-51f38f6fa887",
   "metadata": {},
   "source": [
    "## Pipeline ##"
   ]
  },
  {
   "cell_type": "markdown",
   "id": "e5a3bcaa-b9f8-4f8d-a0c3-602e113dfa12",
   "metadata": {},
   "source": [
    "Второй образец"
   ]
  },
  {
   "cell_type": "code",
   "execution_count": 28,
   "id": "6698254f-6092-4221-aa90-abecac4d18f8",
   "metadata": {},
   "outputs": [],
   "source": [
    "path = \"02/\""
   ]
  },
  {
   "cell_type": "code",
   "execution_count": 1,
   "id": "3778fa25-6f6e-4fef-a9b8-4689bbd419a7",
   "metadata": {},
   "outputs": [],
   "source": [
    "def read(path):\n",
    "    all_data = []\n",
    "    for filename in os.listdir(path):\n",
    "        with open(os.path.join(path, filename), 'r') as file:\n",
    "            #print(filename[:3], filename[4:7])\n",
    "            dtype = np.dtype('uint32')\n",
    "            data = np.fromfile(file, dtype)\n",
    "            shp = (int(filename[:3]), int(filename[4:7]))\n",
    "            data = data.reshape(shp)\n",
    "            all_data.append(data)\n",
    "\n",
    "    all_data = np.array(all_data).astype('int64')\n",
    "\n",
    "    #new = []\n",
    "    #for img in all_data.copy():\n",
    "    #    temp = cv2.normalize(img, None, alpha=0, beta=1, norm_type=cv2.NORM_MINMAX, dtype=cv2.CV_32F)\n",
    "    #    new.append(temp)\n",
    "\n",
    "    new_255 = []\n",
    "    for img in all_data.copy():\n",
    "        norm_image = cv2.normalize(img, None, alpha = 0, beta = 255, norm_type = cv2.NORM_MINMAX, dtype = cv2.CV_32F)\n",
    "        norm_image = norm_image.astype(np.uint8)\n",
    "        new_255.append(norm_image)\n",
    "\n",
    "    return new_255"
   ]
  },
  {
   "cell_type": "code",
   "execution_count": 31,
   "id": "144d0f5a-1447-4a50-baab-6ae8e09e4bf4",
   "metadata": {},
   "outputs": [],
   "source": [
    "new_255 = read(path)"
   ]
  },
  {
   "cell_type": "code",
   "execution_count": 34,
   "id": "b6cb7334-92bd-42cb-b56c-5a23604b5e34",
   "metadata": {},
   "outputs": [],
   "source": [
    "fig, ax = plt.subplots()\n",
    "\n",
    "\n",
    "def f(i):\n",
    "    return new_255[i]\n",
    "\n",
    "\n",
    "# ims is a list of lists, each row is a list of artists to draw in the\n",
    "# current frame; here we are just animating one artist, the image, in\n",
    "# each frame\n",
    "ims = []\n",
    "for i in range(0, 997):\n",
    "    im = ax.imshow(f(i), animated=True)\n",
    "    ims.append([im])\n",
    "\n",
    "ani = animation.ArtistAnimation(fig, ims, interval=50, blit=True,\n",
    "                                repeat_delay=1000)\n",
    "\n",
    "\n",
    "plt.show()"
   ]
  },
  {
   "cell_type": "code",
   "execution_count": 35,
   "id": "42b27741-0be9-46e9-8c06-9fe98da487af",
   "metadata": {},
   "outputs": [
    {
     "name": "stderr",
     "output_type": "stream",
     "text": [
      "MovieWriter ffmpeg unavailable; using Pillow instead.\n"
     ]
    }
   ],
   "source": [
    "ani.save('animations_2.gif')"
   ]
  },
  {
   "cell_type": "code",
   "execution_count": 37,
   "id": "71a36ae0-f114-4f10-a962-b8d4167d6c9d",
   "metadata": {},
   "outputs": [],
   "source": [
    "for idx, pic in enumerate(new_255):\n",
    "    retval = cv2.imwrite('02_output/{}.png'.format(idx), pic)"
   ]
  },
  {
   "cell_type": "markdown",
   "id": "185158cd-1337-4f00-ae2f-92b9538a7f48",
   "metadata": {},
   "source": [
    "## 3-тий образец ##"
   ]
  },
  {
   "cell_type": "code",
   "execution_count": 11,
   "id": "11d2aa36-ab4b-48ad-863b-8371477a6913",
   "metadata": {},
   "outputs": [],
   "source": [
    "new_255_ = read(\"03/\")"
   ]
  },
  {
   "cell_type": "code",
   "execution_count": 13,
   "id": "f0a6169c-badb-4764-bd83-192aaf0f8051",
   "metadata": {},
   "outputs": [],
   "source": [
    "fig, ax = plt.subplots()\n",
    "\n",
    "\n",
    "def f(i):\n",
    "    return new_255_[i]\n",
    "\n",
    "\n",
    "# ims is a list of lists, each row is a list of artists to draw in the\n",
    "# current frame; here we are just animating one artist, the image, in\n",
    "# each frame\n",
    "ims = []\n",
    "for i in range(0, 356):\n",
    "    im = ax.imshow(f(i), animated=True)\n",
    "    ims.append([im])\n",
    "\n",
    "ani = animation.ArtistAnimation(fig, ims, interval=50, blit=True,\n",
    "                                repeat_delay=1000)\n",
    "\n",
    "\n",
    "plt.show()"
   ]
  },
  {
   "cell_type": "code",
   "execution_count": 56,
   "id": "1bcbaa39-29fd-4a42-ad0d-178aebe3cede",
   "metadata": {},
   "outputs": [
    {
     "name": "stderr",
     "output_type": "stream",
     "text": [
      "MovieWriter ffmpeg unavailable; using Pillow instead.\n"
     ]
    }
   ],
   "source": [
    "ani.save('animations_3.gif')"
   ]
  },
  {
   "cell_type": "code",
   "execution_count": 58,
   "id": "8f71c0e5-89c7-476d-ba67-2c091d2c1ee6",
   "metadata": {},
   "outputs": [],
   "source": [
    "for idx, pic in enumerate(new_255_):\n",
    "    retval = cv2.imwrite('03_output/{}.png'.format(idx), pic)"
   ]
  },
  {
   "cell_type": "code",
   "execution_count": null,
   "id": "ccf8c855-2825-426a-bd44-d5407a6fcc99",
   "metadata": {},
   "outputs": [],
   "source": []
  },
  {
   "cell_type": "code",
   "execution_count": null,
   "id": "be9fc01a-d635-4c32-b831-b0492340a680",
   "metadata": {},
   "outputs": [],
   "source": []
  },
  {
   "cell_type": "code",
   "execution_count": null,
   "id": "eafa749c-76a1-440b-968a-4ae574d7198c",
   "metadata": {},
   "outputs": [],
   "source": []
  },
  {
   "cell_type": "code",
   "execution_count": null,
   "id": "5b9d111f-b1c7-4d82-b69a-964af68334fe",
   "metadata": {},
   "outputs": [],
   "source": []
  },
  {
   "cell_type": "code",
   "execution_count": null,
   "id": "176d603c-88d8-4330-ac4e-9cfaad3d4767",
   "metadata": {},
   "outputs": [],
   "source": []
  },
  {
   "cell_type": "code",
   "execution_count": null,
   "id": "77f13195-00a2-4115-9ef1-2dfd9332163e",
   "metadata": {},
   "outputs": [],
   "source": []
  }
 ],
 "metadata": {
  "kernelspec": {
   "display_name": "Python 3",
   "language": "python",
   "name": "python3"
  },
  "language_info": {
   "codemirror_mode": {
    "name": "ipython",
    "version": 3
   },
   "file_extension": ".py",
   "mimetype": "text/x-python",
   "name": "python",
   "nbconvert_exporter": "python",
   "pygments_lexer": "ipython3",
   "version": "3.6.8"
  }
 },
 "nbformat": 4,
 "nbformat_minor": 5
}
